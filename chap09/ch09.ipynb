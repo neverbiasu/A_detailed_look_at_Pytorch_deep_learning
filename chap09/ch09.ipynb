{
 "cells": [
  {
   "cell_type": "code",
   "execution_count": null,
   "metadata": {},
   "outputs": [],
   "source": [
    "import PIL.Image as Image\n",
    "import os\n",
    "from torchvision import transforms as transforms\n",
    "import torchvision.transforms.functional as TF"
   ]
  },
  {
   "cell_type": "markdown",
   "metadata": {},
   "source": [
    "## 数据增强"
   ]
  },
  {
   "cell_type": "markdown",
   "metadata": {},
   "source": [
    "### 常见的几种数据增强\n",
    "- 基于几何变换的数据增强\n",
    "- 基于颜色空间变换的数据增强\n",
    "- 其他增强方法（如多样本数据增强、Cut Mix数据增强和Mosaic数据增强）"
   ]
  },
  {
   "cell_type": "markdown",
   "metadata": {},
   "source": [
    "### 常见的数据增强方法\n",
    "- 随机旋转\n",
    "- 随机裁剪\n",
    "- 数据缩放\n",
    "- 色彩抖动\n",
    "- 增加噪声\n",
    "- 水平/垂直翻转\n",
    "- 图像平移"
   ]
  },
  {
   "cell_type": "markdown",
   "metadata": {},
   "source": [
    "### 常见的数据增强库\n",
    "- torchvision\n",
    "- imgaug\n",
    "- albumentations"
   ]
  },
  {
   "cell_type": "markdown",
   "metadata": {},
   "source": [
    "### torchvision实现数据增强。"
   ]
  },
  {
   "cell_type": "code",
   "execution_count": null,
   "metadata": {},
   "outputs": [],
   "source": [
    "# 取图像，是使用PIL格式的\n",
    "def read_PIL(image_path):\n",
    "    \"\"\" read image in specific path\n",
    "    and return PIL.Image instance\"\"\"\n",
    "    image = Image.open(image_path)\n",
    "    return image\n",
    "\n",
    "# 中心裁剪\n",
    "def center_crop(image):\n",
    "    CenterCrop = transforms.CenterCrop(size=(300, 300))\n",
    "    cropped_image = CenterCrop(image)\n",
    "    return cropped_image"
   ]
  }
 ],
 "metadata": {
  "kernelspec": {
   "display_name": "base",
   "language": "python",
   "name": "python3"
  },
  "language_info": {
   "name": "python",
   "version": "3.11.4"
  }
 },
 "nbformat": 4,
 "nbformat_minor": 2
}
