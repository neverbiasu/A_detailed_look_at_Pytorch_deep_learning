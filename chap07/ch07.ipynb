{
 "cells": [
  {
   "cell_type": "code",
   "execution_count": 1,
   "metadata": {},
   "outputs": [],
   "source": [
    "import torch\n",
    "import torchvision\n",
    "import hiddenlayer as h\n",
    "from torchvision.models import AlexNet\n",
    "from torchviz import make_dot\n",
    "from tensorboardX import SummaryWriter\n",
    "import cv2 as cv\n",
    "import numpy as np"
   ]
  },
  {
   "cell_type": "markdown",
   "metadata": {},
   "source": [
    "### 【例7 1】 建立一个网络模型，并使用HiddenLayer可视化。"
   ]
  },
  {
   "cell_type": "code",
   "execution_count": 2,
   "metadata": {},
   "outputs": [
    {
     "name": "stderr",
     "output_type": "stream",
     "text": [
      "c:\\Users\\kcloud\\miniconda3\\Lib\\site-packages\\torch\\onnx\\symbolic_helper.py:1513: UserWarning: ONNX export mode is set to TrainingMode.EVAL, but operator 'dropout' is set to train=True. Exporting with train=True.\n",
      "  warnings.warn(\n",
      "\n",
      "(dot.exe:5808): Pango-WARNING **: couldn't load font \"Times Not-Rotated 10\", falling back to \"Sans Not-Rotated 10\", expect ugly output.\n"
     ]
    },
    {
     "name": "stdout",
     "output_type": "stream",
     "text": [
      "Kernel is None\n",
      "Kernel is None\n",
      "Kernel is None\n",
      "Kernel is None\n",
      "Kernel is None\n",
      "Kernel is None\n",
      "Kernel is None\n",
      "Kernel is None\n",
      "Kernel is None\n",
      "AlexNet(\n",
      "  (features): Sequential(\n",
      "    (0): Conv2d(3, 64, kernel_size=(11, 11), stride=(4, 4), padding=(2, 2))\n",
      "    (1): ReLU(inplace=True)\n",
      "    (2): MaxPool2d(kernel_size=3, stride=2, padding=0, dilation=1, ceil_mode=False)\n",
      "    (3): Conv2d(64, 192, kernel_size=(5, 5), stride=(1, 1), padding=(2, 2))\n",
      "    (4): ReLU(inplace=True)\n",
      "    (5): MaxPool2d(kernel_size=3, stride=2, padding=0, dilation=1, ceil_mode=False)\n",
      "    (6): Conv2d(192, 384, kernel_size=(3, 3), stride=(1, 1), padding=(1, 1))\n",
      "    (7): ReLU(inplace=True)\n",
      "    (8): Conv2d(384, 256, kernel_size=(3, 3), stride=(1, 1), padding=(1, 1))\n",
      "    (9): ReLU(inplace=True)\n",
      "    (10): Conv2d(256, 256, kernel_size=(3, 3), stride=(1, 1), padding=(1, 1))\n",
      "    (11): ReLU(inplace=True)\n",
      "    (12): MaxPool2d(kernel_size=3, stride=2, padding=0, dilation=1, ceil_mode=False)\n",
      "  )\n",
      "  (avgpool): AdaptiveAvgPool2d(output_size=(6, 6))\n",
      "  (classifier): Sequential(\n",
      "    (0): Dropout(p=0.5, inplace=False)\n",
      "    (1): Linear(in_features=9216, out_features=4096, bias=True)\n",
      "    (2): ReLU(inplace=True)\n",
      "    (3): Dropout(p=0.5, inplace=False)\n",
      "    (4): Linear(in_features=4096, out_features=4096, bias=True)\n",
      "    (5): ReLU(inplace=True)\n",
      "    (6): Linear(in_features=4096, out_features=1000, bias=True)\n",
      "  )\n",
      ")\n"
     ]
    }
   ],
   "source": [
    "model = torchvision.models.alexnet()\n",
    "x = torch.randn([3, 3, 224, 224])\n",
    "NetGraph = h.build_graph(model, x)\n",
    "NetGraph.save('./model.png', format='png')\n",
    "print(model)\n",
    "# HiddenLayer不维护了，会有bug，修复一下即可"
   ]
  },
  {
   "cell_type": "markdown",
   "metadata": {},
   "source": [
    "### 【例7 2】 Pytorch建立模型，并使用PytorchViz可视化。\n"
   ]
  },
  {
   "cell_type": "code",
   "execution_count": 3,
   "metadata": {},
   "outputs": [
    {
     "name": "stdout",
     "output_type": "stream",
     "text": [
      "tensor([[-0.0111,  0.0152, -0.0112,  ..., -0.0144,  0.0186,  0.0285],\n",
      "        [-0.0143,  0.0104, -0.0198,  ..., -0.0132,  0.0123,  0.0191],\n",
      "        [-0.0141,  0.0124, -0.0198,  ..., -0.0109,  0.0050,  0.0216],\n",
      "        ...,\n",
      "        [-0.0120,  0.0156, -0.0197,  ..., -0.0127,  0.0112,  0.0168],\n",
      "        [-0.0094,  0.0102, -0.0098,  ..., -0.0119,  0.0120,  0.0214],\n",
      "        [-0.0169,  0.0151, -0.0148,  ..., -0.0136,  0.0124,  0.0257]],\n",
      "       grad_fn=<AddmmBackward0>)\n"
     ]
    },
    {
     "data": {
      "text/plain": [
       "'espnet_model.pdf'"
      ]
     },
     "execution_count": 3,
     "metadata": {},
     "output_type": "execute_result"
    }
   ],
   "source": [
    "x = torch.rand(8, 3, 256, 512)\n",
    "model = AlexNet()\n",
    "y = model(x)\n",
    "print(y)\n",
    "g = make_dot(y)\n",
    "g.render('espnet_model', view=False)"
   ]
  },
  {
   "cell_type": "markdown",
   "metadata": {},
   "source": [
    "### 【例7 3】 PytorchViz可视化，查询整个模型的参数量信息。\n"
   ]
  },
  {
   "cell_type": "code",
   "execution_count": 4,
   "metadata": {},
   "outputs": [
    {
     "name": "stdout",
     "output_type": "stream",
     "text": [
      "该层的结构：[64, 3, 11, 11]\n",
      "该层参数和：23232\n",
      "该层的结构：[64]\n",
      "该层参数和：64\n",
      "该层的结构：[192, 64, 5, 5]\n",
      "该层参数和：307200\n",
      "该层的结构：[192]\n",
      "该层参数和：192\n",
      "该层的结构：[384, 192, 3, 3]\n",
      "该层参数和：663552\n",
      "该层的结构：[384]\n",
      "该层参数和：384\n",
      "该层的结构：[256, 384, 3, 3]\n",
      "该层参数和：884736\n",
      "该层的结构：[256]\n",
      "该层参数和：256\n",
      "该层的结构：[256, 256, 3, 3]\n",
      "该层参数和：589824\n",
      "该层的结构：[256]\n",
      "该层参数和：256\n",
      "该层的结构：[4096, 9216]\n",
      "该层参数和：37748736\n",
      "该层的结构：[4096]\n",
      "该层参数和：4096\n",
      "该层的结构：[4096, 4096]\n",
      "该层参数和：16777216\n",
      "该层的结构：[4096]\n",
      "该层参数和：4096\n",
      "该层的结构：[1000, 4096]\n",
      "该层参数和：4096000\n",
      "该层的结构：[1000]\n",
      "该层参数和：1000\n",
      "总参数数量和：61100840\n"
     ]
    }
   ],
   "source": [
    "x = torch.rand(8, 3, 256, 512)\n",
    "model = AlexNet()\n",
    "y = model(x)\n",
    "# print(y)\n",
    "# g = make_dot(y)\n",
    "# g.render('espnet_model', view=False)\n",
    "\n",
    "params = list(model.parameters())\n",
    "k = 0\n",
    "for i in params:\n",
    "        l = 1\n",
    "        print(\"该层的结构：\" + str(list(i.size())))\n",
    "        for j in i.size():\n",
    "                l *= j\n",
    "        print(\"该层参数和：\" + str(l))\n",
    "        k = k + l\n",
    "print(\"总参数数量和：\" + str(k))"
   ]
  },
  {
   "cell_type": "markdown",
   "metadata": {},
   "source": [
    "### 【例7 4】 创建一个SummaryWriter\n"
   ]
  },
  {
   "cell_type": "code",
   "execution_count": 5,
   "metadata": {},
   "outputs": [],
   "source": [
    "from tensorboardX import SummaryWriter\n",
    "\n",
    "writer1 = SummaryWriter('runs/exp')\n",
    "writer2 = SummaryWriter()\n",
    "writer3 = SummaryWriter(comment='resnet')"
   ]
  },
  {
   "cell_type": "markdown",
   "metadata": {},
   "source": [
    "### 【例7 5】 SummaryWriter添加数字。\n"
   ]
  },
  {
   "cell_type": "code",
   "execution_count": 6,
   "metadata": {},
   "outputs": [],
   "source": [
    "writer = SummaryWriter('runs/scalar_example')\n",
    "for i in range(10):\n",
    "    writer.add_scalar('quadratic', i**2, global_step=i)\n",
    "    writer.add_scalar('exponential', 2**i, global_step=i)"
   ]
  },
  {
   "cell_type": "code",
   "execution_count": 7,
   "metadata": {},
   "outputs": [
    {
     "name": "stdout",
     "output_type": "stream",
     "text": [
      "^C\n"
     ]
    }
   ],
   "source": [
    "# !tensorboard --logdir=./runs/scalar_example"
   ]
  },
  {
   "cell_type": "markdown",
   "metadata": {},
   "source": [
    "### 【例7 6】 SummaryWriter添加图片。\n"
   ]
  },
  {
   "cell_type": "code",
   "execution_count": 8,
   "metadata": {},
   "outputs": [
    {
     "name": "stdout",
     "output_type": "stream",
     "text": [
      "1\n",
      "2\n",
      "3\n",
      "4\n"
     ]
    }
   ],
   "source": [
    "writer = SummaryWriter('runs/image_example')\n",
    "\n",
    "for i in range(1, 5):\n",
    "    print(i)\n",
    "    writer.add_image('countdown',\n",
    "                     cv.cvtColor(cv.imread('{}.png'.format(i)), cv.COLOR_BGR2RGB),\n",
    "                     global_step=i,\n",
    "                     dataformats='HWC')"
   ]
  },
  {
   "cell_type": "markdown",
   "metadata": {},
   "source": [
    "### 【例7 7】 SummaryWriter添加直方图。\n"
   ]
  },
  {
   "cell_type": "code",
   "execution_count": 9,
   "metadata": {},
   "outputs": [],
   "source": [
    "writer = SummaryWriter('runs/histogram_example')\n",
    "writer.add_histogram('normal_centered', np.random.normal(0, 1, 1000), global_step=1)\n",
    "writer.add_histogram('normal_centered', np.random.normal(0, 2, 1000), global_step=50)\n",
    "writer.add_histogram('normal_centered', np.random.normal(0, 3, 1000), global_step=100)"
   ]
  },
  {
   "cell_type": "markdown",
   "metadata": {},
   "source": [
    "### 【例7 8】 SummaryWriter添加嵌入向量。\n"
   ]
  },
  {
   "cell_type": "code",
   "execution_count": 10,
   "metadata": {},
   "outputs": [
    {
     "name": "stdout",
     "output_type": "stream",
     "text": [
      "warning: Embedding dir exists, did you set global_step for add_embedding()?\n"
     ]
    },
    {
     "name": "stderr",
     "output_type": "stream",
     "text": [
      "c:\\Users\\kcloud\\miniconda3\\Lib\\site-packages\\torchvision\\datasets\\mnist.py:75: UserWarning: train_data has been renamed data\n",
      "  warnings.warn(\"train_data has been renamed data\")\n",
      "c:\\Users\\kcloud\\miniconda3\\Lib\\site-packages\\torchvision\\datasets\\mnist.py:65: UserWarning: train_labels has been renamed targets\n",
      "  warnings.warn(\"train_labels has been renamed targets\")\n"
     ]
    }
   ],
   "source": [
    "writer = SummaryWriter('runs/embedding_example')\n",
    "mnist = torchvision.datasets.MNIST('mnist', download=True)\n",
    "writer.add_embedding(\n",
    "    mnist.train_data.reshape((-1, 28 * 28))[:100, :],\n",
    "    metadata=mnist.train_labels[:100],\n",
    "    label_img=mnist.train_data[:100, :, :].reshape((-1, 1, 28, 28)).float() / 255,\n",
    "    global_step=0\n",
    ")"
   ]
  }
 ],
 "metadata": {
  "kernelspec": {
   "display_name": "base",
   "language": "python",
   "name": "python3"
  },
  "language_info": {
   "codemirror_mode": {
    "name": "ipython",
    "version": 3
   },
   "file_extension": ".py",
   "mimetype": "text/x-python",
   "name": "python",
   "nbconvert_exporter": "python",
   "pygments_lexer": "ipython3",
   "version": "3.11.4"
  }
 },
 "nbformat": 4,
 "nbformat_minor": 2
}
