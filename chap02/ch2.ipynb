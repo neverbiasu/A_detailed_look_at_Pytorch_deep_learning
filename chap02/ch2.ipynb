{
 "cells": [
  {
   "cell_type": "code",
   "execution_count": 6,
   "metadata": {},
   "outputs": [],
   "source": [
    "# 导入这章所需库\n",
    "# import the libraries which is required in this chapter\n",
    "import torch \n",
    "import numpy as np\n",
    "from matplotlib import pyplot as plt\n",
    "import math"
   ]
  },
  {
   "cell_type": "markdown",
   "metadata": {},
   "source": [
    "### 例2 1 查看Pytorch版本，查看Pytorch是否支持GPU运算。"
   ]
  },
  {
   "cell_type": "code",
   "execution_count": 7,
   "metadata": {},
   "outputs": [
    {
     "name": "stdout",
     "output_type": "stream",
     "text": [
      "2.1.2\n",
      "True\n"
     ]
    }
   ],
   "source": [
    "print(torch.__version__)\n",
    "print(torch.cuda.is_available())"
   ]
  },
  {
   "cell_type": "markdown",
   "metadata": {},
   "source": [
    "### 【例2 2】  检查NumPy版本。"
   ]
  },
  {
   "cell_type": "code",
   "execution_count": 8,
   "metadata": {},
   "outputs": [
    {
     "name": "stdout",
     "output_type": "stream",
     "text": [
      "1.26.3\n"
     ]
    }
   ],
   "source": [
    "print(np.__version__)"
   ]
  },
  {
   "cell_type": "markdown",
   "metadata": {},
   "source": [
    "### 【例2 3】numpy.array应用举例。"
   ]
  },
  {
   "cell_type": "code",
   "execution_count": 9,
   "metadata": {},
   "outputs": [
    {
     "name": "stdout",
     "output_type": "stream",
     "text": [
      "[4 5 6 7]\n",
      "********************\n",
      "[[7 2]\n",
      " [9 4]]\n",
      "********************\n",
      "[[91 72 63 74  5]]\n",
      "********************\n",
      "[15.+0.j 26.+0.j 38.+0.j]\n"
     ]
    }
   ],
   "source": [
    "a = np.array([4,5,6,7])\n",
    "print(a)\n",
    "print('*'*20)\n",
    "# 多于一个维度\n",
    "b = np.array([[7,  2],  [9,  4]])\n",
    "print(b)\n",
    "print('*'*20)\n",
    "# 最小维度\n",
    "c = np.array([91, 72, 63, 74, 5], ndmin =  2)\n",
    "print(c)\n",
    "print('*'*20)\n",
    "# dtype 参数\n",
    "d = np.array([15,  26,  38], dtype = complex)\n",
    "print(d)"
   ]
  },
  {
   "cell_type": "markdown",
   "metadata": {},
   "source": [
    "### 【例2 4】numpy数据类型应用举例。"
   ]
  },
  {
   "cell_type": "code",
   "execution_count": 10,
   "metadata": {},
   "outputs": [
    {
     "name": "stdout",
     "output_type": "stream",
     "text": [
      "int32\n",
      "**********\n",
      "int32\n",
      "**********\n",
      "int32\n",
      "**********\n",
      "[('age', 'i1')]\n",
      "**********\n",
      "[(10,) (20,) (30,)]\n",
      "**********\n",
      "[10 20 30]\n",
      "**********\n",
      "[('name', 'S20'), ('age', 'i1'), ('marks', '<f4')]\n",
      "**********\n",
      "[(b'abc', 21, 50.) (b'xyz', 18, 75.)]\n"
     ]
    }
   ],
   "source": [
    "# 使用标量类型\n",
    "dt = np.dtype(np.int32)\n",
    "print(dt)\n",
    "print('*'*10)\n",
    "# int8, int16, int32, int64 四种数据类型可以使用字符串 'i1', 'i2','i4','i8' 代替\n",
    "s2 = np.dtype('i4')\n",
    "print(s2)\n",
    "print('*'*10)\n",
    "# 字节顺序标注\n",
    "s3 = np.dtype('<i4')\n",
    "print(s3)\n",
    "print('*'*10)\n",
    "# 首先创建结构化数据类型\n",
    "s4 = np.dtype([('age',np.int8)])\n",
    "print(s4)\n",
    "print('*'*10)\n",
    "# 将数据类型应用于ndarray对象\n",
    "w = np.dtype([('age',np.int8)])\n",
    "s5 = np.array([(10,),(20,),(30,)], dtype = w)\n",
    "print(s5)\n",
    "print('*'*10)\n",
    "# 类型字段名可以用于存取实际的 age 列\n",
    "y = np.dtype([('age',np.int8)])\n",
    "s6 = np.array([(10,),(20,),(30,)], dtype = y)\n",
    "print(s6['age'])\n",
    "print('*'*10)\n",
    "student = np.dtype([('name','S20'), ('age', 'i1'), ('marks', 'f4')])\n",
    "print(student)\n",
    "print('*'*10)\n",
    "student = np.dtype([('name','S20'), ('age', 'i1'), ('marks', 'f4')])\n",
    "s8 = np.array([('abc', 21, 50),('xyz', 18, 75)], dtype = student)\n",
    "print(s8)"
   ]
  },
  {
   "cell_type": "markdown",
   "metadata": {},
   "source": [
    "### 【例2 5】numpy.empty创建空数组。"
   ]
  },
  {
   "cell_type": "code",
   "execution_count": 11,
   "metadata": {},
   "outputs": [
    {
     "name": "stdout",
     "output_type": "stream",
     "text": [
      "[[ 763642168        479         64          0          0          0]\n",
      " [         0          0          0        479  845494576  892874804]\n",
      " [1681405751  808477750  808674104  959919665  875639397  926048868]\n",
      " [ 845308720  862150962 1634021989  892810086  926366009 1631008561]]\n"
     ]
    }
   ],
   "source": [
    "s = np.empty([4, 6], dtype = int)\n",
    "print(s)"
   ]
  },
  {
   "cell_type": "markdown",
   "metadata": {},
   "source": [
    "### 【例2 6】numpy.zeros应用举例说明。\n"
   ]
  },
  {
   "cell_type": "code",
   "execution_count": 12,
   "metadata": {},
   "outputs": [
    {
     "name": "stdout",
     "output_type": "stream",
     "text": [
      "[0. 0. 0. 0. 0.]\n"
     ]
    },
    {
     "ename": "AttributeError",
     "evalue": "module 'numpy' has no attribute 'int'.\n`np.int` was a deprecated alias for the builtin `int`. To avoid this error in existing code, use `int` by itself. Doing this will not modify any behavior and is safe. When replacing `np.int`, you may wish to use e.g. `np.int64` or `np.int32` to specify the precision. If you wish to review your current use, check the release note link for additional information.\nThe aliases was originally deprecated in NumPy 1.20; for more details and guidance see the original release note at:\n    https://numpy.org/devdocs/release/1.20.0-notes.html#deprecations",
     "output_type": "error",
     "traceback": [
      "\u001b[1;31m---------------------------------------------------------------------------\u001b[0m",
      "\u001b[1;31mAttributeError\u001b[0m                            Traceback (most recent call last)",
      "\u001b[1;32mc:\\Users\\kcloud\\Desktop\\Study\\Torch\\A detailed look at Pytorch deep learning\\chap02\\ch2.ipynb 单元格 13\u001b[0m line \u001b[0;36m5\n\u001b[0;32m      <a href='vscode-notebook-cell:/c%3A/Users/kcloud/Desktop/Study/Torch/A%20detailed%20look%20at%20Pytorch%20deep%20learning/chap02/ch2.ipynb#X15sZmlsZQ%3D%3D?line=2'>3</a>\u001b[0m \u001b[39mprint\u001b[39m(x)\n\u001b[0;32m      <a href='vscode-notebook-cell:/c%3A/Users/kcloud/Desktop/Study/Torch/A%20detailed%20look%20at%20Pytorch%20deep%20learning/chap02/ch2.ipynb#X15sZmlsZQ%3D%3D?line=3'>4</a>\u001b[0m \u001b[39m# 设置类型为整数\u001b[39;00m\n\u001b[1;32m----> <a href='vscode-notebook-cell:/c%3A/Users/kcloud/Desktop/Study/Torch/A%20detailed%20look%20at%20Pytorch%20deep%20learning/chap02/ch2.ipynb#X15sZmlsZQ%3D%3D?line=4'>5</a>\u001b[0m y \u001b[39m=\u001b[39m np\u001b[39m.\u001b[39mzeros((\u001b[39m5\u001b[39m,), dtype\u001b[39m=\u001b[39mnp\u001b[39m.\u001b[39;49mint)\n\u001b[0;32m      <a href='vscode-notebook-cell:/c%3A/Users/kcloud/Desktop/Study/Torch/A%20detailed%20look%20at%20Pytorch%20deep%20learning/chap02/ch2.ipynb#X15sZmlsZQ%3D%3D?line=5'>6</a>\u001b[0m \u001b[39mprint\u001b[39m(y)\n\u001b[0;32m      <a href='vscode-notebook-cell:/c%3A/Users/kcloud/Desktop/Study/Torch/A%20detailed%20look%20at%20Pytorch%20deep%20learning/chap02/ch2.ipynb#X15sZmlsZQ%3D%3D?line=6'>7</a>\u001b[0m \u001b[39m# 自定义类型\u001b[39;00m\n",
      "File \u001b[1;32mc:\\Users\\kcloud\\miniconda3\\Lib\\site-packages\\numpy\\__init__.py:324\u001b[0m, in \u001b[0;36m__getattr__\u001b[1;34m(attr)\u001b[0m\n\u001b[0;32m    319\u001b[0m     warnings\u001b[39m.\u001b[39mwarn(\n\u001b[0;32m    320\u001b[0m         \u001b[39mf\u001b[39m\u001b[39m\"\u001b[39m\u001b[39mIn the future `np.\u001b[39m\u001b[39m{\u001b[39;00mattr\u001b[39m}\u001b[39;00m\u001b[39m` will be defined as the \u001b[39m\u001b[39m\"\u001b[39m\n\u001b[0;32m    321\u001b[0m         \u001b[39m\"\u001b[39m\u001b[39mcorresponding NumPy scalar.\u001b[39m\u001b[39m\"\u001b[39m, \u001b[39mFutureWarning\u001b[39;00m, stacklevel\u001b[39m=\u001b[39m\u001b[39m2\u001b[39m)\n\u001b[0;32m    323\u001b[0m \u001b[39mif\u001b[39;00m attr \u001b[39min\u001b[39;00m __former_attrs__:\n\u001b[1;32m--> 324\u001b[0m     \u001b[39mraise\u001b[39;00m \u001b[39mAttributeError\u001b[39;00m(__former_attrs__[attr])\n\u001b[0;32m    326\u001b[0m \u001b[39mif\u001b[39;00m attr \u001b[39m==\u001b[39m \u001b[39m'\u001b[39m\u001b[39mtesting\u001b[39m\u001b[39m'\u001b[39m:\n\u001b[0;32m    327\u001b[0m     \u001b[39mimport\u001b[39;00m \u001b[39mnumpy\u001b[39;00m\u001b[39m.\u001b[39;00m\u001b[39mtesting\u001b[39;00m \u001b[39mas\u001b[39;00m \u001b[39mtesting\u001b[39;00m\n",
      "\u001b[1;31mAttributeError\u001b[0m: module 'numpy' has no attribute 'int'.\n`np.int` was a deprecated alias for the builtin `int`. To avoid this error in existing code, use `int` by itself. Doing this will not modify any behavior and is safe. When replacing `np.int`, you may wish to use e.g. `np.int64` or `np.int32` to specify the precision. If you wish to review your current use, check the release note link for additional information.\nThe aliases was originally deprecated in NumPy 1.20; for more details and guidance see the original release note at:\n    https://numpy.org/devdocs/release/1.20.0-notes.html#deprecations"
     ]
    }
   ],
   "source": [
    "# 默认为浮点数\n",
    "x = np.zeros(5)\n",
    "print(x)\n",
    "# 设置类型为整数\n",
    "y = np.zeros((5,), dtype=np.int)\n",
    "print(y)\n",
    "# 自定义类型\n",
    "z = np.zeros((2, 2), dtype=[('x', 'i4'), ('y', 'i4')])\n",
    "print(z)\n"
   ]
  },
  {
   "cell_type": "markdown",
   "metadata": {},
   "source": [
    "### 【例2 7】numpy.ones应用举例说明。\n"
   ]
  },
  {
   "cell_type": "code",
   "execution_count": null,
   "metadata": {},
   "outputs": [],
   "source": [
    "# 默认为浮点数\n",
    "x = np.ones(5)\n",
    "print(x)\n",
    "print('*'*10)\n",
    "# 自定义类型\n",
    "x = np.ones([3, 3], dtype=int)\n",
    "print(x)"
   ]
  },
  {
   "cell_type": "markdown",
   "metadata": {},
   "source": [
    "### 【例2 8】将列表转换为ndarray。\n"
   ]
  },
  {
   "cell_type": "code",
   "execution_count": null,
   "metadata": {},
   "outputs": [],
   "source": [
    "x = [4, 5, 6, 10000]\n",
    "a = np.asarray(x)\n",
    "print(a)"
   ]
  },
  {
   "cell_type": "markdown",
   "metadata": {},
   "source": [
    "### 【例2 9】  将元组转换为ndarray。\n"
   ]
  },
  {
   "cell_type": "code",
   "execution_count": null,
   "metadata": {},
   "outputs": [],
   "source": [
    "x = (100, 2000, 300000)\n",
    "a = np.asarray(x)\n",
    "print(a)"
   ]
  },
  {
   "cell_type": "markdown",
   "metadata": {},
   "source": [
    "### 【例2 10】元组列表转换为ndarray。\n"
   ]
  },
  {
   "cell_type": "code",
   "execution_count": null,
   "metadata": {},
   "outputs": [],
   "source": [
    "x = [(1, 2, 3), (4, 5)]\n",
    "a = np.asarray(x)\n",
    "print(a)\n",
    "print('*'*10)\n",
    "# 设置了dtype参数\n",
    "y =  [1,2,3]\n",
    "b = np.asarray(y, dtype =  float)\n",
    "print(b)"
   ]
  },
  {
   "cell_type": "markdown",
   "metadata": {},
   "source": [
    "### 【例2 11】numpy.frombuffer应用实例。\n"
   ]
  },
  {
   "cell_type": "code",
   "execution_count": null,
   "metadata": {},
   "outputs": [],
   "source": [
    "s = b'Hello World'\n",
    "a = np.frombuffer(s, dtype='S1')\n",
    "print(a)\n"
   ]
  },
  {
   "cell_type": "markdown",
   "metadata": {},
   "source": [
    "### 【例2 12】numpy. fromiter应用实例。\n"
   ]
  },
  {
   "cell_type": "code",
   "execution_count": null,
   "metadata": {},
   "outputs": [],
   "source": [
    "# 使用 range 函数创建列表对象\n",
    "list = range(10)\n",
    "it = iter(list)\n",
    "# 使用迭代器创建 ndarray\n",
    "x = np.fromiter(it, dtype=float)\n",
    "print(x)"
   ]
  },
  {
   "cell_type": "markdown",
   "metadata": {},
   "source": [
    "### 【例2 13】numpy加减乘除应用举例。\n"
   ]
  },
  {
   "cell_type": "code",
   "execution_count": null,
   "metadata": {},
   "outputs": [],
   "source": [
    "a = np.arange(0, 27, 3, dtype=np.float_).reshape(3, 3)\n",
    "print('第一个数组：')\n",
    "print(a)\n",
    "print('*'*20)\n",
    "print('第二个数组：')\n",
    "b = np.array([3, 6, 9])\n",
    "print(b)\n",
    "print('*'*20)\n",
    "print('两个数组相加：')\n",
    "print(np.add(a, b))\n",
    "print('*'*20)\n",
    "print('两个数组相减：')\n",
    "print(np.subtract(a, b))\n",
    "print('*'*20)\n",
    "print('两个数组相乘：')\n",
    "print(np.multiply(a, b))\n",
    "print('*'*20)\n",
    "print('两个数组相除：')\n",
    "print(np.divide(a, b))"
   ]
  },
  {
   "cell_type": "markdown",
   "metadata": {},
   "source": [
    "### 【例2 14】numpy.reciprocal()应用举例。\n"
   ]
  },
  {
   "cell_type": "code",
   "execution_count": null,
   "metadata": {},
   "outputs": [],
   "source": [
    "s = np.array([888, 1000, 20, 0.1])\n",
    "print('原数组是：')\n",
    "print(s)\n",
    "print('*'*20)\n",
    "print('调用reciprocal函数：')\n",
    "print(np.reciprocal(s))"
   ]
  },
  {
   "cell_type": "markdown",
   "metadata": {},
   "source": [
    "### 【例2 15】numpy.power()函数应用举例。\n"
   ]
  },
  {
   "cell_type": "code",
   "execution_count": null,
   "metadata": {},
   "outputs": [],
   "source": [
    "s = np.array([2, 4, 8])\n",
    "print('原数组是；')\n",
    "print(s)\n",
    "print('*'*20)\n",
    "print('调用power函数：')\n",
    "print(np.power(s, 2))\n",
    "print('*'*20)\n",
    "print('power之后数组：')\n",
    "w = np.array([1, 2, 3])\n",
    "print(w)\n",
    "print('*'*20)\n",
    "print('再次调用power函数：')\n",
    "print(np.power(s, w))"
   ]
  },
  {
   "cell_type": "markdown",
   "metadata": {},
   "source": [
    "### 【例2 16】numpy.mod()应用举例。\n"
   ]
  },
  {
   "cell_type": "code",
   "execution_count": null,
   "metadata": {},
   "outputs": [],
   "source": [
    "s = np.array([3, 6, 9])\n",
    "w = np.array([2, 4, 8])\n",
    "print('第一个数组：')\n",
    "print(s)\n",
    "print('*'*20)\n",
    "print('第二个数组：')\n",
    "print(w)\n",
    "print('*'*20)\n",
    "print('调用mod()函数：')\n",
    "print(np.mod(s, w))\n",
    "print('*'*20)\n",
    "print('调用remainder()函数：')\n",
    "print(np.remainder(s, w))"
   ]
  },
  {
   "cell_type": "markdown",
   "metadata": {},
   "source": [
    "### 【例2 17】numpy三角函数应用举例。\n"
   ]
  },
  {
   "cell_type": "code",
   "execution_count": null,
   "metadata": {},
   "outputs": [],
   "source": [
    "a = np.array([0, 30, 45, 60, 90])\n",
    "print('不同角度的正弦值：')\n",
    "# 通过乘 pi/180 转化为弧度\n",
    "print(np.sin(a * np.pi / 180))\n",
    "print('*'*20)\n",
    "print('数组中角度的余弦值：')\n",
    "print(np.cos(a * np.pi / 180))\n",
    "print('*'*20)\n",
    "print('数组中角度的正切值：')\n",
    "print(np.tan(a * np.pi / 180))"
   ]
  },
  {
   "cell_type": "markdown",
   "metadata": {},
   "source": [
    "### 【例2 18】arcsin，arccos，和arctan函数应用举例。"
   ]
  },
  {
   "cell_type": "code",
   "execution_count": null,
   "metadata": {},
   "outputs": [],
   "source": [
    "a = np.array([0, 30, 45, 60, 90])\n",
    "print('含有正弦值的数组：')\n",
    "sin = np.sin(a * np.pi / 180)\n",
    "print(sin)\n",
    "print('*'*20)\n",
    "print('计算角度的反正弦，返回值以弧度为单位：')\n",
    "inv = np.arcsin(sin)\n",
    "print(inv)\n",
    "print('*'*20)\n",
    "print('通过转化为角度制来检查结果：')\n",
    "print(np.degrees(inv))\n",
    "print('*'*20)\n",
    "print('arccos 和 arctan 函数行为类似：')\n",
    "cos = np.cos(a * np.pi / 180)\n",
    "print(cos)\n",
    "print('*'*20)\n",
    "print('反余弦：')\n",
    "inv = np.arccos(cos)\n",
    "print(inv)\n",
    "print('*'*20)\n",
    "print('角度制单位：')\n",
    "print(np.degrees(inv))\n",
    "print('*'*20)\n",
    "print('tan 函数：')\n",
    "tan = np.tan(a * np.pi / 180)\n",
    "print(tan)\n",
    "print('*'*20)\n",
    "print('反正切：')\n",
    "inv = np.arctan(tan)\n",
    "print(inv)\n",
    "print('*'*20)\n",
    "print('角度制单位：')\n",
    "print(np.degrees(inv))"
   ]
  },
  {
   "cell_type": "markdown",
   "metadata": {},
   "source": [
    "### 【例2 19】numpy.around()函数应用举例。\n"
   ]
  },
  {
   "cell_type": "code",
   "execution_count": null,
   "metadata": {},
   "outputs": [],
   "source": [
    "a = np.array([100.0, 100.5, 123, 0.876, 76.998])\n",
    "print('原数组：')\n",
    "print(a)\n",
    "print('*'*20)\n",
    "print('舍入后：')\n",
    "print(np.around(a))\n",
    "print(np.around(a, decimals=1))\n",
    "print(np.around(a, decimals=-1))\n"
   ]
  },
  {
   "cell_type": "markdown",
   "metadata": {},
   "source": [
    "### 【例2 20】numpy.floor()应用举例。\n"
   ]
  },
  {
   "cell_type": "code",
   "execution_count": null,
   "metadata": {},
   "outputs": [],
   "source": [
    "s = np.array([-9999.7, 100333.5, -23340.2, 0.987, 10.88888])\n",
    "print('提供的数组：')\n",
    "print(s)\n",
    "print('*'*20)\n",
    "print('修改后的数组：')\n",
    "print(np.floor(s))\n"
   ]
  },
  {
   "cell_type": "markdown",
   "metadata": {},
   "source": [
    "### 【例2 21】numpy.ceil()应用举例。\n"
   ]
  },
  {
   "cell_type": "code",
   "execution_count": null,
   "metadata": {},
   "outputs": [],
   "source": [
    "s = np.array([-100.3, 18.98, -0.49999, 0.563, 10])\n",
    "print('提供的数组：')\n",
    "print(s)\n",
    "print('*'*20)\n",
    "print('修改后的数组：')\n",
    "print(np.ceil(s))"
   ]
  },
  {
   "cell_type": "markdown",
   "metadata": {},
   "source": [
    "### 【例2 73】  绘制简单图形对象。"
   ]
  },
  {
   "cell_type": "code",
   "execution_count": null,
   "metadata": {},
   "outputs": [],
   "source": [
    "x = np.arange(0, math.pi*2, 0.05)\n",
    "y = np.sin(x)\n",
    "fig = plt.figure()\n",
    "ax = fig.add_axes([0,0,1,1])\n",
    "ax.plot(x,y)\n",
    "ax.set_title(\"sine wave\")\n",
    "ax.set_xlabel('angle')\n",
    "ax.set_ylabel('sine')\n",
    "plt.show()"
   ]
  },
  {
   "cell_type": "markdown",
   "metadata": {},
   "source": [
    "### 【例2 74】  直线图展示销量关系。"
   ]
  },
  {
   "cell_type": "code",
   "execution_count": null,
   "metadata": {},
   "outputs": [],
   "source": [
    "y = [1, 4, 9, 16, 25,36,49, 64]\n",
    "x1 = [1, 16, 30, 42,55, 68, 77,88]\n",
    "x2 = [1,6,12,18,28, 40, 52, 65]\n",
    "fig = plt.figure()\n",
    "ax = fig.add_axes([0,0,1,1])\n",
    "# 使用简写的形式color/标记符/线型\n",
    "l1 = ax.plot(x1,y,'ys-')\n",
    "l2 = ax.plot(x2,y,'go--')\n",
    "ax.legend(labels = ('tv', 'Smartphone'), loc = 'lower right') # legend placed at lower right\n",
    "ax.set_title(\"Advertisement effect on sales\")\n",
    "ax.set_xlabel('medium')\n",
    "ax.set_ylabel('sales')\n",
    "plt.show()\n"
   ]
  },
  {
   "cell_type": "markdown",
   "metadata": {},
   "source": [
    "### 【例2 75】  新建的子图与现有的子图重叠。"
   ]
  },
  {
   "cell_type": "code",
   "execution_count": null,
   "metadata": {},
   "outputs": [],
   "source": [
    "plt.figure(1)\n",
    "plt.plot([1,2,3])\n",
    "#现在创建一个子图，它表示一个有2行1列的网格的顶部图。\n",
    "#因为这个子图将与第一个重叠，所以之前创建的图将被删除\n",
    "plt.subplot(211)\n",
    "plt.plot(range(12))\n",
    "#创建带有黄色背景的第二个子图\n",
    "plt.subplot(212, facecolor='y')\n",
    "plt.plot(range(12))\n",
    "plt.show()"
   ]
  },
  {
   "cell_type": "markdown",
   "metadata": {},
   "source": [
    "### 【例2 76】  add_subplot()函数使用。"
   ]
  },
  {
   "cell_type": "code",
   "execution_count": null,
   "metadata": {},
   "outputs": [],
   "source": [
    "plt.figure(1)\n",
    "plt.plot([1,2,3])\n",
    "#现在创建一个子图，它表示一个有2行1列的网格的顶部图。\n",
    "#因为这个子图将与第一个重叠，所以之前创建的图将被删除\n",
    "plt.subplot(211)\n",
    "plt.plot(range(12))\n",
    "#创建带有黄色背景的第二个子图\n",
    "plt.subplot(212, facecolor='y')\n",
    "plt.plot(range(12))\n",
    "plt.show()\n"
   ]
  },
  {
   "cell_type": "markdown",
   "metadata": {},
   "source": [
    "### 【例2 77】  通过给画布添加axes对象可以实现在同一画布中插入另外的图像。\n"
   ]
  },
  {
   "cell_type": "code",
   "execution_count": null,
   "metadata": {},
   "outputs": [],
   "source": [
    "x = np.arange(0, math.pi*2, 0.05)\n",
    "fig=plt.figure()\n",
    "axes1 = fig.add_axes([0.1, 0.1, 0.8, 0.8]) # main axes\n",
    "axes2 = fig.add_axes([0.55, 0.55, 0.3, 0.3]) # inset axes\n",
    "y = np.sin(x)\n",
    "axes1.plot(x, y, 'b')\n",
    "axes2.plot(x,np.cos(x),'r')\n",
    "axes1.set_title('sine')\n",
    "axes2.set_title(\"cosine\")\n",
    "plt.show()"
   ]
  },
  {
   "cell_type": "markdown",
   "metadata": {},
   "source": [
    "### 【例2 78】  创建了一个2行2列的子图，并在每个子图中显示4个不同的图像。\n"
   ]
  },
  {
   "cell_type": "code",
   "execution_count": null,
   "metadata": {},
   "outputs": [],
   "source": [
    "fig,a =  plt.subplots(2,2)\n",
    "import numpy as np\n",
    "x = np.arange(1,5)\n",
    "#绘制平方函数\n",
    "a[0][0].plot(x,x*x)\n",
    "a[0][0].set_title('square')\n",
    "#绘制平方根图像\n",
    "a[0][1].plot(x,np.sqrt(x))\n",
    "a[0][1].set_title('square root')\n",
    "#绘制指数函数\n",
    "a[1][0].plot(x,np.exp(x))\n",
    "a[1][0].set_title('exp')\n",
    "#绘制对数函数\n",
    "a[1][1].plot(x,np.log10(x))\n",
    "a[1][1].set_title('log')\n",
    "plt.show()\n"
   ]
  },
  {
   "cell_type": "markdown",
   "metadata": {},
   "source": [
    "### 【例2 79】  显示坐标轴刻度。\n"
   ]
  },
  {
   "cell_type": "code",
   "execution_count": null,
   "metadata": {},
   "outputs": [],
   "source": [
    "fig, axes = plt.subplots(1, 2, figsize=(10,4))\n",
    "x = np.arange(1,5)\n",
    "axes[0].plot( x, np.exp(x))\n",
    "axes[0].plot(x,x**2)\n",
    "axes[0].set_title(\"Normal scale\")\n",
    "axes[1].plot (x, np.exp(x))\n",
    "axes[1].plot(x, x**2)\n",
    "#设置y轴\n",
    "axes[1].set_yscale(\"log\")\n",
    "axes[1].set_title(\"Logarithmic scale (y)\")\n",
    "axes[0].set_xlabel(\"x axis\")\n",
    "axes[0].set_ylabel(\"y axis\")\n",
    "axes[0].xaxis.labelpad = 10\n",
    "#设置x、y轴标签\n",
    "axes[1].set_xlabel(\"x axis\")\n",
    "axes[1].set_ylabel(\"y axis\")\n",
    "plt.show()"
   ]
  },
  {
   "cell_type": "markdown",
   "metadata": {},
   "source": [
    "### 【例2 80】  坐标轴颜色显示。\n"
   ]
  },
  {
   "cell_type": "code",
   "execution_count": null,
   "metadata": {},
   "outputs": [],
   "source": [
    "fig = plt.figure()\n",
    "ax = fig.add_axes([0,0,1,1])\n",
    "#为左侧轴，底部轴添加颜色\n",
    "ax.spines['bottom'].set_color('blue')\n",
    "ax.spines['left'].set_color('red')\n",
    "ax.spines['left'].set_linewidth(2)\n",
    "#将侧轴、顶部轴设置为None\n",
    "ax.spines['right'].set_color(None)\n",
    "ax.spines['top'].set_color(None)\n",
    "ax.plot([1,2,3,4,5])\n",
    "plt.show()"
   ]
  },
  {
   "cell_type": "markdown",
   "metadata": {},
   "source": [
    "### 【例2 81】  Matplotlib设置坐标轴。\n"
   ]
  },
  {
   "cell_type": "code",
   "execution_count": null,
   "metadata": {},
   "outputs": [],
   "source": [
    "# 生成信号\n",
    "fs = 1000\n",
    "f = 10\n",
    "t = list(range(0, 1000))\n",
    "t = [x / fs for x in t]\n",
    "a = [math.sin(2 * math.pi * f * x) for x in t]\n",
    "\n",
    "# 作图\n",
    "plt.figure()\n",
    "plt.subplot(2, 2, 1)\n",
    "plt.plot(a)\n",
    "plt.title('Figure-1')\n",
    "plt.subplot(2, 2, 2)\n",
    "plt.plot(a)\n",
    "plt.xticks([])\n",
    "plt.title('Figure-2')\n",
    "plt.subplot(2, 2, 3)\n",
    "plt.plot(a)\n",
    "plt.yticks([])\n",
    "plt.title('Figure-3')\n",
    "plt.subplot(2, 2, 4)\n",
    "plt.plot(a)\n",
    "plt.axis('off')\n",
    "plt.title('Figure-4')\n",
    "plt.show()"
   ]
  },
  {
   "cell_type": "markdown",
   "metadata": {},
   "source": [
    "### 【例2 82】  刻度和标签的使用。\n"
   ]
  },
  {
   "cell_type": "code",
   "execution_count": null,
   "metadata": {},
   "outputs": [],
   "source": [
    "x = np.arange(0, math.pi*2, 0.05)\n",
    "#生成画布对象\n",
    "fig = plt.figure()\n",
    "#添加绘图区域\n",
    "ax = fig.add_axes([0.1, 0.1, 0.8, 0.8])\n",
    "y = np.sin(x)\n",
    "ax.plot(x, y)\n",
    "#设置x轴标签\n",
    "ax.set_xlabel('angle')\n",
    "ax.set_title('sine')\n",
    "ax.set_xticks([0,2,4,6])\n",
    "#设置x轴刻度标签\n",
    "ax.set_xticklabels(['zero','two','four','six'])\n",
    "#设置y轴刻度\n",
    "ax.set_yticks([-1,0,1])\n",
    "plt.show()"
   ]
  },
  {
   "cell_type": "markdown",
   "metadata": {},
   "source": [
    "### 【例2 83】  grid()设置网格格式。\n",
    "\n"
   ]
  },
  {
   "cell_type": "code",
   "execution_count": null,
   "metadata": {},
   "outputs": [],
   "source": [
    "#fig画布；axes子图区域\n",
    "fig, axes = plt.subplots(1,3, figsize = (12,4))\n",
    "x = np.arange(1,11)\n",
    "axes[0].plot(x, x**3, 'g',lw=2)\n",
    "#开启网格\n",
    "axes[0].grid(True)\n",
    "axes[0].set_title('default grid')\n",
    "axes[1].plot(x, np.exp(x), 'r')\n",
    "#设置网格的颜色，线型，线宽\n",
    "axes[1].grid(color='b', ls = '-.', lw = 0.25)\n",
    "axes[1].set_title('custom grid')\n",
    "axes[2].plot(x,x)\n",
    "axes[2].set_title('no grid')\n",
    "fig.tight_layout()\n",
    "plt.show()"
   ]
  }
 ],
 "metadata": {
  "kernelspec": {
   "display_name": "base",
   "language": "python",
   "name": "python3"
  },
  "language_info": {
   "codemirror_mode": {
    "name": "ipython",
    "version": 3
   },
   "file_extension": ".py",
   "mimetype": "text/x-python",
   "name": "python",
   "nbconvert_exporter": "python",
   "pygments_lexer": "ipython3",
   "version": "3.11.4"
  }
 },
 "nbformat": 4,
 "nbformat_minor": 2
}
